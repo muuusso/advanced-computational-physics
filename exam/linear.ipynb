{
 "cells": [
  {
   "cell_type": "code",
   "execution_count": 1,
   "id": "7890761e",
   "metadata": {},
   "outputs": [],
   "source": [
    "from IPython.display import Latex\n",
    "\n",
    "import matplotlib.pyplot as plt\n",
    "plt.rcParams['figure.figsize'] = (9, 6)\n",
    "from numba import njit, prange\n",
    "import numpy as np\n",
    "\n",
    "from wf import build_psi, V_lj, eta, epsilon, sigma\n",
    "\n",
    "np.random.seed(0)"
   ]
  },
  {
   "cell_type": "markdown",
   "id": "35800b25",
   "metadata": {},
   "source": [
    "## Parameters starting values"
   ]
  },
  {
   "cell_type": "code",
   "execution_count": 2,
   "id": "264d3aa7",
   "metadata": {},
   "outputs": [],
   "source": [
    "cn = np.array([0.85, 0.1, 0.04, 0.01])\n",
    "\n",
    "Lambda = -2.143 * sigma**2\n",
    "r0 = 2.096 / sigma\n",
    "w = 1.278 / sigma"
   ]
  },
  {
   "cell_type": "code",
   "execution_count": 3,
   "id": "8aaff06a",
   "metadata": {},
   "outputs": [
    {
     "data": {
      "text/latex": [
       "$L = 6.663\\ \\sigma$"
      ],
      "text/plain": [
       "<IPython.core.display.Latex object>"
      ]
     },
     "execution_count": 3,
     "metadata": {},
     "output_type": "execute_result"
    }
   ],
   "source": [
    "N = 108\n",
    "\n",
    "rho0 = 21.86e-3 * sigma**3\n",
    "L = (N / (rho0))**(1/3)\n",
    "\n",
    "psi, f, h, f0, f1, f2, f3 = build_psi(L) \n",
    "\n",
    "Latex(f'$L = {L:.3f}\\\\ \\\\sigma$')"
   ]
  },
  {
   "cell_type": "code",
   "execution_count": 4,
   "id": "28ea0f92",
   "metadata": {},
   "outputs": [],
   "source": [
    "from itertools import product\n",
    "\n",
    "\n",
    "def fcc_lattice(N, a):\n",
    "    \"\"\"\n",
    "    Return a numpy array for a fcc-lattice, where the lattice is a cube of\n",
    "    elementary cells. Then N must be of the type: N = 4 * n**3, where n is the \n",
    "    number of cells per side of the cubic box. \"a\" is the lattice parameter\n",
    "    \"\"\"\n",
    "    lattice = np.zeros((N, 3))\n",
    "    \n",
    "    # first unit cell position\n",
    "    unit_cell = np.array([[0,   0,   0],\n",
    "                          [a/2, a/2, 0],\n",
    "                          [0,   a/2, a/2],\n",
    "                          [a/2, 0,   a/2]])\n",
    "    \n",
    "    # number of cells in the box\n",
    "    n = N // 4\n",
    "    \n",
    "    # number of cells per side\n",
    "    cells_per_side = round(n**(1/3))\n",
    "    \n",
    "    # coordinates of cells in the box\n",
    "    cells_coordinates = product(range(cells_per_side), repeat=3)\n",
    "    for i, coords in enumerate(cells_coordinates):\n",
    "        \n",
    "        # cell translation matrix\n",
    "        R = np.zeros((4, 3))\n",
    "\n",
    "        R[:, 0] = int(coords[0]) * a\n",
    "        R[:, 1] = int(coords[1]) * a\n",
    "        R[:, 2] = int(coords[2]) * a\n",
    "        \n",
    "        lattice[4*i:4*(i+1)] = unit_cell + R\n",
    "        \n",
    "    return lattice\n",
    "\n",
    "\n",
    "conf = np.zeros((10000, N, 3))\n",
    "conf[0] = fcc_lattice(N, L/3)"
   ]
  },
  {
   "cell_type": "markdown",
   "id": "54101f4f",
   "metadata": {},
   "source": [
    "## TODO:\n",
    "* sampling\n",
    "* energy computation\n",
    "* radial distribution function computation\n",
    "* optimization technique\n",
    "\n",
    "## ideas:\n",
    "* d (healing distance) as variational parameter (now d = L / 2)"
   ]
  },
  {
   "cell_type": "code",
   "execution_count": 5,
   "id": "b6794d5e",
   "metadata": {},
   "outputs": [
    {
     "data": {
      "text/plain": [
       "1.1347005232453426e-103"
      ]
     },
     "execution_count": 5,
     "metadata": {},
     "output_type": "execute_result"
    }
   ],
   "source": [
    "psi(conf[0], cn, Lambda, w, r0)\n",
    "\n",
    "# %timeit -r 5 -n 1000 psi(conf, cn, Lambda, w, r0)"
   ]
  },
  {
   "cell_type": "code",
   "execution_count": 6,
   "id": "19e6325e",
   "metadata": {},
   "outputs": [],
   "source": [
    "@njit\n",
    "def equilibration(conf):\n",
    "    delta = L / 100\n",
    "    eq_steps = 10000\n",
    "\n",
    "    eta = np.random.rand(eq_steps)\n",
    "    to_move = np.random.choice(N, size=(eq_steps, N//3))\n",
    "    move = np.random.rand(eq_steps, N//3, 3) - 0.5\n",
    "    \n",
    "    fw_steps = 0\n",
    "\n",
    "    P_i = psi(conf[0], cn, Lambda, w, r0)**2\n",
    "#     P_i = psi(conf, cn, Lambda, w, r0)**2\n",
    "    for i in range(eq_steps-1):\n",
    "        conf[i+1] = np.copy(conf[i])\n",
    "        \n",
    "        proposal = np.copy(conf[i])\n",
    "        proposal[to_move[i]] = conf[i][to_move[i]] + delta * move[i]\n",
    "        proposal = proposal - L * np.floor(proposal / L) \n",
    "        \n",
    "#         proposal = np.copy(conf)\n",
    "#         proposal[to_move[i]] = conf[to_move[i]] + delta * move[i]\n",
    "#         proposal = proposal - L * np.floor(proposal / L)\n",
    "        \n",
    "        P_p = psi(proposal, cn, Lambda, w, r0)**2\n",
    "        if (P_p / P_i) > eta[i]:\n",
    "            conf[i+1][to_move[i]] += delta * move[i]\n",
    "#             conf[to_move[i]] += delta * move[i]\n",
    "            P_i = float(P_p)\n",
    "            fw_steps += 1\n",
    "        \n",
    "        if ((i+1) % 500 == 0):\n",
    "            print(i+1, delta, fw_steps)\n",
    "            if (fw_steps > 350) or (fw_steps < 150):\n",
    "                delta = delta * (0.5 + fw_steps/500)\n",
    "            # reset forward steps counter\n",
    "            fw_steps = 0\n",
    "            \n",
    "equilibration(conf)"
   ]
  },
  {
   "cell_type": "code",
   "execution_count": 7,
   "id": "d1f50710",
   "metadata": {},
   "outputs": [
    {
     "name": "stdout",
     "output_type": "stream",
     "text": [
      "6.9 s ± 128 ms per loop (mean ± std. dev. of 5 runs, 10 loops each)\n"
     ]
    }
   ],
   "source": [
    "%timeit -r 5 -n 10 equilibration(conf)"
   ]
  }
 ],
 "metadata": {
  "kernelspec": {
   "display_name": "Python 3 (ipykernel)",
   "language": "python",
   "name": "python3"
  },
  "language_info": {
   "codemirror_mode": {
    "name": "ipython",
    "version": 3
   },
   "file_extension": ".py",
   "mimetype": "text/x-python",
   "name": "python",
   "nbconvert_exporter": "python",
   "pygments_lexer": "ipython3",
   "version": "3.9.5"
  }
 },
 "nbformat": 4,
 "nbformat_minor": 5
}
